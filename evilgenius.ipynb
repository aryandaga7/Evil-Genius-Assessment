{
 "cells": [
  {
   "cell_type": "code",
   "execution_count": 168,
   "id": "c4233b2b",
   "metadata": {},
   "outputs": [],
   "source": [
    "# Paths\n",
    "player_data_path = \"/Users/aryandaga/Desktop/game_state_frame_data.parquet\"\n",
    "output_path = \"/Users/aryandaga/Desktop/output_path.parquet\""
   ]
  },
  {
   "cell_type": "code",
   "execution_count": 169,
   "id": "e2f8363d",
   "metadata": {},
   "outputs": [],
   "source": [
    "#Libraries\n",
    "import pandas as pd\n",
    "import matplotlib.path as pth"
   ]
  },
  {
   "cell_type": "code",
   "execution_count": 170,
   "id": "3f9b5375",
   "metadata": {},
   "outputs": [],
   "source": [
    "class ProcessGameState:\n",
    "    def __init__(self, player_data_path):\n",
    "        self.data = pd.read_parquet(player_data_path, engine='pyarrow')\n",
    "        \n",
    "    def in_boundary(self, boundary_points, point, z_bounds):\n",
    "        boundary = pth.Path(boundary_points)\n",
    "        x, y, z = point\n",
    "        z_min, z_max = z_bounds\n",
    "        return (boundary.contains_point([x,y])) and (z_min <= z <= z_max)\n",
    "        \n",
    "    def filter_by(self, trait, trait_value, output_path):\n",
    "        filtered_row = []\n",
    "        for _,row in self.data.iterrows():\n",
    "            if row[trait] == trait_value:\n",
    "                filtered_row.append(row)\n",
    "        df = pd.DataFrame(filtered_row)\n",
    "        df.to_parquet(output_path, engine='pyarrow')\n",
    "                \n",
    "    def extract_weapon_classes(self, row):\n",
    "        weapon_classes = []\n",
    "        if row['inventory'] is None:\n",
    "            return weapon_classes\n",
    "        else:\n",
    "            for item in row['inventory']:\n",
    "                weapon_classes.append(item.get('weapon_class'))\n",
    "        return weapon_classes"
   ]
  },
  {
   "cell_type": "code",
   "execution_count": 171,
   "id": "35d4b892",
   "metadata": {},
   "outputs": [
    {
     "name": "stdout",
     "output_type": "stream",
     "text": [
      "1 15\n"
     ]
    },
    {
     "data": {
      "text/plain": [
       "\"\\nAnswer: We can say from the above output (1,15) that entering through the light blue boundary isn't a common\\nstrategy used by Team2 on T side as team2 entered the blue area only 1 round in 15 rounds. \\n\""
      ]
     },
     "execution_count": 171,
     "metadata": {},
     "output_type": "execute_result"
    }
   ],
   "source": [
    "# a)  Is entering via the light blue boundary a common strategy used by Team2 on T (terrorist) side?\n",
    "p1 = ProcessGameState(player_data_path)\n",
    "z_bounds = (285, 421) # z coordinates for \n",
    "boundary_points = [[-1735, 250], [-2024, 398], [-2806, 742], [-2472, 1233], [-1565, 580]] #enter x, y coordinates for boundry\n",
    "p1.filter_by('side', 'T', output_path) # filters list based on side (T or CT)\n",
    "p2 = ProcessGameState(output_path) \n",
    "p2.filter_by('team', 'Team2', output_path) # filters list based on team (Team1 or Team2)\n",
    "p3 = ProcessGameState(output_path) \n",
    "\n",
    "p3.data = p3.data.sort_values('round_num')\n",
    "\n",
    "# For loop that goes through filtered list and counts if team2 enters boundary in different matches\n",
    "true_rounds = [] #Contains rounds where the boundary was entered\n",
    "all_rounds = p3.data['round_num'].unique() # contains rounds in sorted list\n",
    "for _,row in p3.data.iterrows():\n",
    "    if not (row['round_num'] in true_rounds) and p3.in_boundary(boundary_points, (row['x'], row['y'], row['z']), z_bounds):\n",
    "        true_rounds.append(row['round_num'])\n",
    "print(len(true_rounds), len(all_rounds)) \n",
    "# Output is: (1, 15)\n",
    "\n",
    "'''\n",
    "Answer: We can say from the above output (1,15) that entering through the light blue boundary isn't a common\n",
    "strategy used by Team2 on T side as team2 entered the blue area only 1 round in 15 rounds. \n",
    "'''\n"
   ]
  },
  {
   "cell_type": "code",
   "execution_count": 172,
   "id": "fefd2b1b",
   "metadata": {},
   "outputs": [
    {
     "name": "stdout",
     "output_type": "stream",
     "text": [
      "['Pistols', 'Pistols', 'Pistols', 'Pistols', 'Pistols']\n",
      "['Grenade', 'Pistols', 'Rifle', 'Grenade', 'Grenade', 'Pistols', 'Rifle', 'Pistols', 'Rifle', 'Grenade', 'Grenade', 'Grenade', 'Pistols', 'Rifle', 'Grenade', 'Rifle', 'Grenade', 'Pistols']\n",
      "['Grenade', 'Pistols', 'Rifle', 'Grenade', 'Pistols', 'Grenade', 'Rifle', 'Grenade', 'Grenade', 'Grenade', 'Grenade', 'Pistols', 'Rifle', 'Grenade', 'Grenade', 'Grenade', 'Grenade', 'Pistols', 'Rifle']\n",
      "['Grenade', 'Grenade', 'Rifle', 'Grenade', 'Pistols', 'Pistols', 'Rifle', 'Grenade', 'Pistols', 'Rifle', 'Grenade']\n",
      "['Pistols', 'Pistols', 'Pistols', 'Pistols']\n",
      "['Pistols', 'Rifle', 'Grenade', 'Pistols', 'Rifle', 'Grenade', 'Rifle', 'Pistols', 'Grenade', 'Pistols', 'Rifle']\n",
      "['Rifle', 'Pistols', 'Pistols', 'Rifle', 'Pistols']\n",
      "['Pistols', 'Rifle', 'Rifle', 'Grenade', 'Pistols']\n",
      "['Grenade', 'Grenade', 'Pistols', 'Rifle', 'Pistols', 'Rifle', 'Grenade', 'Pistols', 'Rifle']\n",
      "['Pistols', 'Pistols', 'Grenade']\n",
      "['Pistols', 'Rifle', 'Grenade', 'Grenade', 'Pistols', 'Rifle', 'Pistols', 'Rifle', 'Grenade', 'Grenade', 'Rifle', 'Pistols', 'Grenade', 'Grenade', 'Pistols', 'Rifle', 'Grenade']\n",
      "['Pistols', 'Pistols']\n",
      "['Pistols', 'Rifle', 'Grenade']\n",
      "['Pistols', 'Rifle', 'Grenade', 'Grenade', 'Rifle', 'Pistols', 'Pistols', 'Rifle', 'Rifle', 'Grenade', 'Grenade', 'Grenade', 'Grenade', 'Pistols']\n",
      "['Rifle', 'Grenade', 'Grenade', 'Pistols', 'Rifle', 'Grenade', 'Pistols', 'Pistols', 'Rifle', 'Rifle', 'Pistols']\n",
      "10 15\n"
     ]
    },
    {
     "data": {
      "text/plain": [
       "'\\nFrom the above output we can say that the average time that Team2 on T side enters BombsideB with atleast 2 rifles\\nor SMGS is 10/15 which is majority of the time or 66.66% of the times\\n'"
      ]
     },
     "execution_count": 172,
     "metadata": {},
     "output_type": "execute_result"
    }
   ],
   "source": [
    "# b. What is the average timer that Team2 on T (terrorist) side enters “BombsiteB” with least 2 rifles or SMGs?\n",
    "p1 = ProcessGameState(player_data_path)\n",
    "p1.filter_by('side', 'T', output_path) # filters list based on side (T or CT)\n",
    "p2 = ProcessGameState(output_path) \n",
    "p2.filter_by('team', 'Team2', output_path) # filters list based on team (Team1 or Team2)\n",
    "p3 = ProcessGameState(output_path) \n",
    "\n",
    "p3.data = p3.data.sort_values('round_num')\n",
    "\n",
    "count = 0\n",
    "gun_list = []\n",
    "processed_player = []\n",
    "processed_rounds = []\n",
    "all_rounds = p3.data['round_num'].unique()\n",
    "for _, row in p3.data.iterrows():\n",
    "    if not (row['round_num'] in processed_rounds):\n",
    "        if not row['player'] in processed_player:\n",
    "            processed_player.append(row['player'])\n",
    "            gun_list.extend(p3.extract_weapon_classes(row))\n",
    "        if len(processed_player) == 5:\n",
    "            print(gun_list)\n",
    "            if gun_list.count('Rifle') + gun_list.count('SMGs') >= 2:\n",
    "                count = count + 1\n",
    "            processed_player = []\n",
    "            gun_list = []\n",
    "            processed_rounds.append(row['round_num'])\n",
    "            \n",
    "print(count, len(all_rounds))\n",
    "# Output for the above is (10, 15)\n",
    "\n",
    "'''\n",
    "From the above output we can say that the average time that Team2 on T side enters BombsideB with atleast 2 rifles\n",
    "or SMGS is 10/15 which is majority of the time or 66.66% of the times\n",
    "'''"
   ]
  },
  {
   "cell_type": "code",
   "execution_count": 173,
   "id": "180dd160",
   "metadata": {},
   "outputs": [
    {
     "data": {
      "image/png": "[encoded data removed]",
      "text/plain": [
       "<Figure size 640x480 with 2 Axes>"
      ]
     },
     "metadata": {},
     "output_type": "display_data"
    },
    {
     "data": {
      "text/plain": [
       "'\\nAnswer: We can see from the plot that the area with bluest dotes is the place where enemies are situated most\\nof the time\\n'"
      ]
     },
     "execution_count": 173,
     "metadata": {},
     "output_type": "execute_result"
    }
   ],
   "source": [
    "import pandas as pd\n",
    "import numpy as np\n",
    "import matplotlib.pyplot as plt\n",
    "import seaborn as sns\n",
    "#c. Now that we’ve gathered data on Team2 T side, let's examine their CT (counter-terrorist) Side. Using the same data set, tell our coaching\n",
    "# staff where you suspect them to be waiting inside “BombsiteB” i. Hint: Try a heatmap\n",
    "\n",
    "p1 = ProcessGameState(player_data_path)\n",
    "p1.filter_by('side', 'CT', output_path) # filters list based on side (T or CT)\n",
    "p2 = ProcessGameState(output_path) \n",
    "p2.filter_by('team', 'Team1', output_path) # filters list based on team (Team1 or Team2)\n",
    "p3 = ProcessGameState(output_path) \n",
    "\n",
    "# Create a dictionary to store the player coordinates per round\n",
    "round_coordinates = {}\n",
    "\n",
    "for _, row in p3.data.iterrows():\n",
    "    round_num = row['round_num']\n",
    "    player_coordinates = (row['x'], row['y'])\n",
    "    \n",
    "    if round_num not in round_coordinates:\n",
    "        round_coordinates[round_num] = []\n",
    "    round_coordinates[round_num].append(player_coordinates)\n",
    "\n",
    "# Now, create the heatmap with seaborn\n",
    "all_coordinates = [coord for sublist in round_coordinates.values() for coord in sublist]\n",
    "df = pd.DataFrame(all_coordinates, columns=['x', 'y'])\n",
    "\n",
    "# Calculate the 2d histogram for the data\n",
    "heatmap_data, xedges, yedges = np.histogram2d(df['x'], df['y'], bins=(64,64))\n",
    "\n",
    "# Create the heatmap using seaborn\n",
    "ax = sns.heatmap(heatmap_data, cmap=\"YlGnBu\")\n",
    "\n",
    "# Show the plot\n",
    "plt.show()\n",
    "\n",
    "'''\n",
    "Answer: We can see from the plot that the area with bluest dotes is the place where enemies are situated most\n",
    "of the time\n",
    "'''"
   ]
  },
  {
   "cell_type": "code",
   "execution_count": 174,
   "id": "720c47ff",
   "metadata": {},
   "outputs": [
    {
     "data": {
      "text/plain": [
       "'\\nProblem 3\\n\\n3. (No Coding) Most of the time, our stakeholders (in this case, the CS:GO\\ncoaching staff) aren’t tech-savvy enough to run code themselves. Propose a\\nsolution to your product manager that:\\na. could allow our coaching staff to request or acquire the output themselves\\nb. takes less than 1 weeks worth of work to implement\\n\\n\\nAnswer: To empower the coaching staff to access and interpret strategic insights without\\nneeding to run the code themselves, we suggest developing an intuitive, user-friendly web application.\\nThis web dashboard, equipped with comprehensive data visualization tools,\\nwill allow users to set custom filters and parameters based on specific needs, such as team, side, coordinates,\\nand more.\\nUsers can request or view the output by interacting with the dashboard,\\nwhich will present the data through visual aids like heatmaps for player locations.\\nThis application would take inputs like team names, game sides (Terrorist or Counter-Terrorist),\\nand specific map coordinates. Users could easily select these parameters and instantly visualize the data,\\nfostering strategic understanding.\\nThe application would employ a combination of Python web frameworks such as Django or Flask for the backend,\\nand JavaScript libraries like D3.js or Plotly for data visualization on the frontend.\\nBy incorporating such interactive visualization tools, we can offer to the non-technical \\ndemographic of our stakeholders, allowing them to use the strategic insights that data provides.\\n'"
      ]
     },
     "execution_count": 174,
     "metadata": {},
     "output_type": "execute_result"
    }
   ],
   "source": [
    "'''\n",
    "Problem 3\n",
    "\n",
    "3. (No Coding) Most of the time, our stakeholders (in this case, the CS:GO\n",
    "coaching staff) aren’t tech-savvy enough to run code themselves. Propose a\n",
    "solution to your product manager that:\n",
    "a. could allow our coaching staff to request or acquire the output themselves\n",
    "b. takes less than 1 weeks worth of work to implement\n",
    "\n",
    "\n",
    "Answer: To empower the coaching staff to access and interpret strategic insights without\n",
    "needing to run the code themselves, we suggest developing an intuitive, user-friendly web application.\n",
    "This web dashboard, equipped with comprehensive data visualization tools,\n",
    "will allow users to set custom filters and parameters based on specific needs, such as team, side, coordinates,\n",
    "and more.\n",
    "Users can request or view the output by interacting with the dashboard,\n",
    "which will present the data through visual aids like heatmaps for player locations.\n",
    "This application would take inputs like team names, game sides (Terrorist or Counter-Terrorist),\n",
    "and specific map coordinates. Users could easily select these parameters and instantly visualize the data,\n",
    "fostering strategic understanding.\n",
    "The application would employ a combination of Python web frameworks such as Django or Flask for the backend,\n",
    "and JavaScript libraries like D3.js or Plotly for data visualization on the frontend.\n",
    "By incorporating such interactive visualization tools, we can offer to the non-technical \n",
    "demographic of our stakeholders, allowing them to use the strategic insights that data provides.\n",
    "'''"
   ]
  },
  {
   "cell_type": "code",
   "execution_count": null,
   "id": "98967894",
   "metadata": {},
   "outputs": [],
   "source": []
  }
 ],
 "metadata": {
  "kernelspec": {
   "display_name": "Python 3 (ipykernel)",
   "language": "python",
   "name": "python3"
  },
  "language_info": {
   "codemirror_mode": {
    "name": "ipython",
    "version": 3
   },
   "file_extension": ".py",
   "mimetype": "text/x-python",
   "name": "python",
   "nbconvert_exporter": "python",
   "pygments_lexer": "ipython3",
   "version": "3.10.11"
  }
 },
 "nbformat": 4,
 "nbformat_minor": 5
}
